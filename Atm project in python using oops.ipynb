{
 "cells": [
  {
   "cell_type": "markdown",
   "id": "aea5ec2d",
   "metadata": {},
   "source": [
    "Atm Projects"
   ]
  },
  {
   "cell_type": "code",
   "execution_count": null,
   "id": "b04faa72",
   "metadata": {},
   "outputs": [],
   "source": [
    "class Security:\n",
    "    def __init__(self,username,password,name):\n",
    "        self.__username=username\n",
    "        self.__password=password\n",
    "        self.name=name\n",
    "        print(\"Thank you\")\n",
    "    def info(self):\n",
    "        op=input(\"enter the current password\")\n",
    "        if op==self.__password:\n",
    "            data=f\"\"\"\n",
    "            Name:{self.name}\n",
    "            user id : {self.__username}\n",
    "            password : {self.__password}\n",
    "            \"\"\"\n",
    "            print(data)\n",
    "        else:\n",
    "            print(\"incorrect password\")\n",
    "    def change(self):\n",
    "        op=input(\"enter current password: \")\n",
    "        if op==self.__password:\n",
    "            print(\"enter the 1 for change username\")\n",
    "            print(\"enter the 2 for change password\")\n",
    "            print(\"enter the 3 for change name\")\n",
    "            print(\"enter the 0 for exit\")\n",
    "            ch=input(\"enter your choice: \")\n",
    "            if ch==\"1\":\n",
    "                un=input(\"enter the new username :\")\n",
    "                self.__username=un\n",
    "                print(\"username change successfully\")\n",
    "            elif ch==\"2\":\n",
    "                np=input(\"enter new password\")\n",
    "                self.__password=np\n",
    "                print(\"password changed successfully\")\n",
    "            elif ch==\"3\":\n",
    "                na=input(\"enter the name:\")\n",
    "                self.name=na\n",
    "                print(\"name updated successfully\")\n",
    "            elif ch==\"0\":\n",
    "                print(\"thank you\")\n",
    "            else:\n",
    "                print(\"invalid choice\")\n",
    "                self.change()\n",
    "        else:\n",
    "            print(\"invalid password\")\n",
    "            "
   ]
  }
 ],
 "metadata": {
  "kernelspec": {
   "display_name": "Python 3 (ipykernel)",
   "language": "python",
   "name": "python3"
  },
  "language_info": {
   "codemirror_mode": {
    "name": "ipython",
    "version": 3
   },
   "file_extension": ".py",
   "mimetype": "text/x-python",
   "name": "python",
   "nbconvert_exporter": "python",
   "pygments_lexer": "ipython3",
   "version": "3.9.13"
  }
 },
 "nbformat": 4,
 "nbformat_minor": 5
}
